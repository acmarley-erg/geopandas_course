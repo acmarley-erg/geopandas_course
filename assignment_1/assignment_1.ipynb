{
 "cells": [
  {
   "cell_type": "markdown",
   "metadata": {},
   "source": [
    "# <h1><center>Geopandas</center></h1>\n",
    "## 2.7 - Assignment"
   ]
  },
  {
   "cell_type": "code",
   "execution_count": 1,
   "metadata": {},
   "outputs": [],
   "source": [
    "# Import these libraries: Geopandas, Pandas and Matplotlip.pyplot here\n",
    "import geopandas as gpd\n",
    "import pandas as pd\n",
    "import matplotlib.pyplot as plt\n"
   ]
  },
  {
   "cell_type": "markdown",
   "metadata": {},
   "source": [
    "## 1. Read Spatial data with Geopandas"
   ]
  },
  {
   "cell_type": "markdown",
   "metadata": {},
   "source": [
    "<div class=\"alert alert-block alert-info\">\n",
    "    \n",
    "<b>Instructions:</b> \n",
    "\n",
    "\n",
    "* <span style='font-family:Georgia'> Read Neighbourhoods \"AssignmentData/Neighborhoods_Philadelphia/ with Geopandas. Use Geopandas read_file() and Give it a name of your choice.\n",
    "    \n",
    "* <span style='font-family:Georgia'> The data we are reading is a shapefile with the name Neighborhoods_Philadelphia.\n",
    " \n",
    "</div>"
   ]
  },
  {
   "cell_type": "code",
   "execution_count": 2,
   "metadata": {},
   "outputs": [],
   "source": [
    "phili_neighborhoods_raw = gpd.read_file(\"data/Neighborhoods_Philadelphia/Neighborhoods_Philadelphia.shp\")"
   ]
  },
  {
   "cell_type": "markdown",
   "metadata": {},
   "source": [
    "<div class=\"alert alert-block alert-info\">\n",
    "<span style='font-family:Georgia'> \n",
    "Show the the first five rows of the data.\n",
    "</div>"
   ]
  },
  {
   "cell_type": "code",
   "execution_count": 4,
   "metadata": {},
   "outputs": [
    {
     "data": {
      "text/html": [
       "<div>\n",
       "<style scoped>\n",
       "    .dataframe tbody tr th:only-of-type {\n",
       "        vertical-align: middle;\n",
       "    }\n",
       "\n",
       "    .dataframe tbody tr th {\n",
       "        vertical-align: top;\n",
       "    }\n",
       "\n",
       "    .dataframe thead th {\n",
       "        text-align: right;\n",
       "    }\n",
       "</style>\n",
       "<table border=\"1\" class=\"dataframe\">\n",
       "  <thead>\n",
       "    <tr style=\"text-align: right;\">\n",
       "      <th></th>\n",
       "      <th>NAME</th>\n",
       "      <th>LISTNAME</th>\n",
       "      <th>MAPNAME</th>\n",
       "      <th>Shape_Leng</th>\n",
       "      <th>Shape_Area</th>\n",
       "      <th>geometry</th>\n",
       "    </tr>\n",
       "  </thead>\n",
       "  <tbody>\n",
       "    <tr>\n",
       "      <th>0</th>\n",
       "      <td>BRIDESBURG</td>\n",
       "      <td>Bridesburg</td>\n",
       "      <td>Bridesburg</td>\n",
       "      <td>27814.546521</td>\n",
       "      <td>4.458626e+07</td>\n",
       "      <td>POLYGON ((2719789.837 256235.538, 2719814.855 ...</td>\n",
       "    </tr>\n",
       "    <tr>\n",
       "      <th>1</th>\n",
       "      <td>BUSTLETON</td>\n",
       "      <td>Bustleton</td>\n",
       "      <td>Bustleton</td>\n",
       "      <td>48868.458365</td>\n",
       "      <td>1.140504e+08</td>\n",
       "      <td>POLYGON ((2733378.171 289259.945, 2732818.985 ...</td>\n",
       "    </tr>\n",
       "    <tr>\n",
       "      <th>2</th>\n",
       "      <td>CEDARBROOK</td>\n",
       "      <td>Cedarbrook</td>\n",
       "      <td>Cedarbrook</td>\n",
       "      <td>20021.415802</td>\n",
       "      <td>2.487174e+07</td>\n",
       "      <td>POLYGON ((2685267.950 279747.336, 2685272.265 ...</td>\n",
       "    </tr>\n",
       "    <tr>\n",
       "      <th>3</th>\n",
       "      <td>CHESTNUT_HILL</td>\n",
       "      <td>Chestnut Hill</td>\n",
       "      <td>Chestnut Hill</td>\n",
       "      <td>56394.297195</td>\n",
       "      <td>7.966498e+07</td>\n",
       "      <td>POLYGON ((2678490.151 284400.400, 2678518.732 ...</td>\n",
       "    </tr>\n",
       "    <tr>\n",
       "      <th>4</th>\n",
       "      <td>EAST_FALLS</td>\n",
       "      <td>East Falls</td>\n",
       "      <td>East Falls</td>\n",
       "      <td>27400.776417</td>\n",
       "      <td>4.057689e+07</td>\n",
       "      <td>POLYGON ((2686769.727 263625.367, 2686921.108 ...</td>\n",
       "    </tr>\n",
       "  </tbody>\n",
       "</table>\n",
       "</div>"
      ],
      "text/plain": [
       "            NAME       LISTNAME        MAPNAME    Shape_Leng    Shape_Area  \\\n",
       "0     BRIDESBURG     Bridesburg     Bridesburg  27814.546521  4.458626e+07   \n",
       "1      BUSTLETON      Bustleton      Bustleton  48868.458365  1.140504e+08   \n",
       "2     CEDARBROOK     Cedarbrook     Cedarbrook  20021.415802  2.487174e+07   \n",
       "3  CHESTNUT_HILL  Chestnut Hill  Chestnut Hill  56394.297195  7.966498e+07   \n",
       "4     EAST_FALLS     East Falls     East Falls  27400.776417  4.057689e+07   \n",
       "\n",
       "                                            geometry  \n",
       "0  POLYGON ((2719789.837 256235.538, 2719814.855 ...  \n",
       "1  POLYGON ((2733378.171 289259.945, 2732818.985 ...  \n",
       "2  POLYGON ((2685267.950 279747.336, 2685272.265 ...  \n",
       "3  POLYGON ((2678490.151 284400.400, 2678518.732 ...  \n",
       "4  POLYGON ((2686769.727 263625.367, 2686921.108 ...  "
      ]
     },
     "execution_count": 4,
     "metadata": {},
     "output_type": "execute_result"
    }
   ],
   "source": [
    "phili_neighborhoods_raw.head(5)"
   ]
  },
  {
   "cell_type": "markdown",
   "metadata": {},
   "source": [
    "<div class=\"alert alert-block alert-info\">\n",
    "<span style='font-family:Georgia'> \n",
    "Plot the data with geopandas .plot() method\n",
    "\n",
    "</div>"
   ]
  },
  {
   "cell_type": "code",
   "execution_count": 5,
   "metadata": {},
   "outputs": [
    {
     "data": {
      "text/plain": [
       "<AxesSubplot:>"
      ]
     },
     "execution_count": 5,
     "metadata": {},
     "output_type": "execute_result"
    },
    {
     "data": {
      "image/png": "[encoded data removed]",
      "text/plain": [
       "<Figure size 432x288 with 1 Axes>"
      ]
     },
     "metadata": {
      "needs_background": "light"
     },
     "output_type": "display_data"
    }
   ],
   "source": [
    "phili_neighborhoods_raw.plot()"
   ]
  },
  {
   "cell_type": "markdown",
   "metadata": {},
   "source": [
    "## 2. Read CSV with Pandas and convert to GeoDataFrame"
   ]
  },
  {
   "cell_type": "markdown",
   "metadata": {},
   "source": [
    "\n",
    "<div class=\"alert alert-block alert-info\">\n",
    "    \n",
    "<b>Instructions:</b> \n",
    "\n",
    "\n",
    "* <span style='font-family:Georgia'> Read the incidents CSV file with Pandas: The data is stored in the Assignment folder..\n",
    "    \n",
    "* <span style='font-family:Georgia'> The name of the CSV file is incidents.csv.\n",
    " \n",
    "* <span style='font-family:Georgia'> Show a sample of rows from the DataFrame using .sample(n) method.\n",
    "</div>"
   ]
  },
  {
   "cell_type": "code",
   "execution_count": 6,
   "metadata": {},
   "outputs": [],
   "source": [
    "incidents_csv = pd.read_csv(\"data/incidents.csv\")"
   ]
  },
  {
   "cell_type": "code",
   "execution_count": 7,
   "metadata": {},
   "outputs": [
    {
     "data": {
      "text/html": [
       "<div>\n",
       "<style scoped>\n",
       "    .dataframe tbody tr th:only-of-type {\n",
       "        vertical-align: middle;\n",
       "    }\n",
       "\n",
       "    .dataframe tbody tr th {\n",
       "        vertical-align: top;\n",
       "    }\n",
       "\n",
       "    .dataframe thead th {\n",
       "        text-align: right;\n",
       "    }\n",
       "</style>\n",
       "<table border=\"1\" class=\"dataframe\">\n",
       "  <thead>\n",
       "    <tr style=\"text-align: right;\">\n",
       "      <th></th>\n",
       "      <th>objectid</th>\n",
       "      <th>dc_dist</th>\n",
       "      <th>psa</th>\n",
       "      <th>dispatch_date_time</th>\n",
       "      <th>dispatch_date</th>\n",
       "      <th>dispatch_time</th>\n",
       "      <th>hour_</th>\n",
       "      <th>dc_key</th>\n",
       "      <th>location_block</th>\n",
       "      <th>ucr_general</th>\n",
       "      <th>text_general_code</th>\n",
       "      <th>point_x</th>\n",
       "      <th>point_y</th>\n",
       "      <th>lat</th>\n",
       "      <th>lng</th>\n",
       "    </tr>\n",
       "  </thead>\n",
       "  <tbody>\n",
       "    <tr>\n",
       "      <th>26318</th>\n",
       "      <td>1735025</td>\n",
       "      <td>24</td>\n",
       "      <td>1</td>\n",
       "      <td>23/01/2020 20:35</td>\n",
       "      <td>23/01/2020</td>\n",
       "      <td>20:35:00</td>\n",
       "      <td>20</td>\n",
       "      <td>2.020240e+11</td>\n",
       "      <td>2000 BLOCK E ONTARIO ST</td>\n",
       "      <td>1400</td>\n",
       "      <td>Vandalism/Criminal Mischief</td>\n",
       "      <td>-75.106500</td>\n",
       "      <td>39.996207</td>\n",
       "      <td>39.996207</td>\n",
       "      <td>-75.106500</td>\n",
       "    </tr>\n",
       "    <tr>\n",
       "      <th>56377</th>\n",
       "      <td>3136357</td>\n",
       "      <td>16</td>\n",
       "      <td>2</td>\n",
       "      <td>23/05/2020 11:09</td>\n",
       "      <td>23/05/2020</td>\n",
       "      <td>11:09:00</td>\n",
       "      <td>11</td>\n",
       "      <td>2.020160e+11</td>\n",
       "      <td>600 BLOCK N 42ND ST</td>\n",
       "      <td>1400</td>\n",
       "      <td>Vandalism/Criminal Mischief</td>\n",
       "      <td>-75.207288</td>\n",
       "      <td>39.964398</td>\n",
       "      <td>39.964398</td>\n",
       "      <td>-75.207288</td>\n",
       "    </tr>\n",
       "    <tr>\n",
       "      <th>57445</th>\n",
       "      <td>3142909</td>\n",
       "      <td>12</td>\n",
       "      <td>2</td>\n",
       "      <td>19/05/2020 06:46</td>\n",
       "      <td>19/05/2020</td>\n",
       "      <td>06:46:00</td>\n",
       "      <td>6</td>\n",
       "      <td>2.020120e+11</td>\n",
       "      <td>2200 BLOCK S 69TH ST</td>\n",
       "      <td>800</td>\n",
       "      <td>Other Assaults</td>\n",
       "      <td>-75.239068</td>\n",
       "      <td>39.920665</td>\n",
       "      <td>39.920665</td>\n",
       "      <td>-75.239068</td>\n",
       "    </tr>\n",
       "    <tr>\n",
       "      <th>31603</th>\n",
       "      <td>2157277</td>\n",
       "      <td>39</td>\n",
       "      <td>3</td>\n",
       "      <td>07/02/2020 18:29</td>\n",
       "      <td>07/02/2020</td>\n",
       "      <td>18:29:00</td>\n",
       "      <td>18</td>\n",
       "      <td>2.020390e+11</td>\n",
       "      <td>2300 BLOCK W SOMERSET ST</td>\n",
       "      <td>2600</td>\n",
       "      <td>All Other Offenses</td>\n",
       "      <td>-75.168856</td>\n",
       "      <td>39.997409</td>\n",
       "      <td>39.997409</td>\n",
       "      <td>-75.168856</td>\n",
       "    </tr>\n",
       "    <tr>\n",
       "      <th>46945</th>\n",
       "      <td>3130043</td>\n",
       "      <td>14</td>\n",
       "      <td>2</td>\n",
       "      <td>15/05/2020 19:18</td>\n",
       "      <td>15/05/2020</td>\n",
       "      <td>19:18:00</td>\n",
       "      <td>19</td>\n",
       "      <td>2.020140e+11</td>\n",
       "      <td>5600 BLOCK UTAH ST</td>\n",
       "      <td>800</td>\n",
       "      <td>Other Assaults</td>\n",
       "      <td>-75.170240</td>\n",
       "      <td>40.038857</td>\n",
       "      <td>40.038857</td>\n",
       "      <td>-75.170240</td>\n",
       "    </tr>\n",
       "    <tr>\n",
       "      <th>22780</th>\n",
       "      <td>1476657</td>\n",
       "      <td>18</td>\n",
       "      <td>3</td>\n",
       "      <td>20/01/2020 12:55</td>\n",
       "      <td>20/01/2020</td>\n",
       "      <td>12:55:00</td>\n",
       "      <td>12</td>\n",
       "      <td>2.020180e+11</td>\n",
       "      <td>3600 BLOCK CIVIC CENTER BLVD</td>\n",
       "      <td>800</td>\n",
       "      <td>Other Assaults</td>\n",
       "      <td>-75.196152</td>\n",
       "      <td>39.945977</td>\n",
       "      <td>39.945977</td>\n",
       "      <td>-75.196152</td>\n",
       "    </tr>\n",
       "    <tr>\n",
       "      <th>34676</th>\n",
       "      <td>2374245</td>\n",
       "      <td>5</td>\n",
       "      <td>2</td>\n",
       "      <td>28/01/2020 17:24</td>\n",
       "      <td>28/01/2020</td>\n",
       "      <td>17:24:00</td>\n",
       "      <td>17</td>\n",
       "      <td>2.020050e+11</td>\n",
       "      <td>4500 BLOCK FLEMING ST</td>\n",
       "      <td>800</td>\n",
       "      <td>Other Assaults</td>\n",
       "      <td>-75.223106</td>\n",
       "      <td>40.032007</td>\n",
       "      <td>40.032007</td>\n",
       "      <td>-75.223106</td>\n",
       "    </tr>\n",
       "    <tr>\n",
       "      <th>60464</th>\n",
       "      <td>3141513</td>\n",
       "      <td>15</td>\n",
       "      <td>2</td>\n",
       "      <td>11/05/2020 16:28</td>\n",
       "      <td>11/05/2020</td>\n",
       "      <td>16:28:00</td>\n",
       "      <td>16</td>\n",
       "      <td>2.020150e+11</td>\n",
       "      <td>5300 BLOCK HORROCKS ST</td>\n",
       "      <td>1100</td>\n",
       "      <td>Fraud</td>\n",
       "      <td>-75.083068</td>\n",
       "      <td>40.027295</td>\n",
       "      <td>40.027295</td>\n",
       "      <td>-75.083068</td>\n",
       "    </tr>\n",
       "    <tr>\n",
       "      <th>17535</th>\n",
       "      <td>1070843</td>\n",
       "      <td>2</td>\n",
       "      <td>1</td>\n",
       "      <td>05/02/2020 10:19</td>\n",
       "      <td>05/02/2020</td>\n",
       "      <td>10:19:00</td>\n",
       "      <td>10</td>\n",
       "      <td>2.020020e+11</td>\n",
       "      <td>6500 BLOCK CASTOR AVE</td>\n",
       "      <td>800</td>\n",
       "      <td>Other Assaults</td>\n",
       "      <td>-75.076312</td>\n",
       "      <td>40.041060</td>\n",
       "      <td>40.041060</td>\n",
       "      <td>-75.076312</td>\n",
       "    </tr>\n",
       "    <tr>\n",
       "      <th>13376</th>\n",
       "      <td>801307</td>\n",
       "      <td>9</td>\n",
       "      <td>2</td>\n",
       "      <td>07/03/2020 08:25</td>\n",
       "      <td>07/03/2020</td>\n",
       "      <td>08:25:00</td>\n",
       "      <td>8</td>\n",
       "      <td>2.020090e+11</td>\n",
       "      <td>400 BLOCK N BROAD ST</td>\n",
       "      <td>600</td>\n",
       "      <td>Thefts</td>\n",
       "      <td>-75.161599</td>\n",
       "      <td>39.962210</td>\n",
       "      <td>39.962210</td>\n",
       "      <td>-75.161599</td>\n",
       "    </tr>\n",
       "  </tbody>\n",
       "</table>\n",
       "</div>"
      ],
      "text/plain": [
       "       objectid  dc_dist psa dispatch_date_time dispatch_date dispatch_time  \\\n",
       "26318   1735025       24   1   23/01/2020 20:35    23/01/2020      20:35:00   \n",
       "56377   3136357       16   2   23/05/2020 11:09    23/05/2020      11:09:00   \n",
       "57445   3142909       12   2   19/05/2020 06:46    19/05/2020      06:46:00   \n",
       "31603   2157277       39   3   07/02/2020 18:29    07/02/2020      18:29:00   \n",
       "46945   3130043       14   2   15/05/2020 19:18    15/05/2020      19:18:00   \n",
       "22780   1476657       18   3   20/01/2020 12:55    20/01/2020      12:55:00   \n",
       "34676   2374245        5   2   28/01/2020 17:24    28/01/2020      17:24:00   \n",
       "60464   3141513       15   2   11/05/2020 16:28    11/05/2020      16:28:00   \n",
       "17535   1070843        2   1   05/02/2020 10:19    05/02/2020      10:19:00   \n",
       "13376    801307        9   2   07/03/2020 08:25    07/03/2020      08:25:00   \n",
       "\n",
       "       hour_        dc_key                location_block  ucr_general  \\\n",
       "26318     20  2.020240e+11       2000 BLOCK E ONTARIO ST         1400   \n",
       "56377     11  2.020160e+11           600 BLOCK N 42ND ST         1400   \n",
       "57445      6  2.020120e+11          2200 BLOCK S 69TH ST          800   \n",
       "31603     18  2.020390e+11      2300 BLOCK W SOMERSET ST         2600   \n",
       "46945     19  2.020140e+11            5600 BLOCK UTAH ST          800   \n",
       "22780     12  2.020180e+11  3600 BLOCK CIVIC CENTER BLVD          800   \n",
       "34676     17  2.020050e+11         4500 BLOCK FLEMING ST          800   \n",
       "60464     16  2.020150e+11        5300 BLOCK HORROCKS ST         1100   \n",
       "17535     10  2.020020e+11         6500 BLOCK CASTOR AVE          800   \n",
       "13376      8  2.020090e+11          400 BLOCK N BROAD ST          600   \n",
       "\n",
       "                 text_general_code    point_x    point_y        lat        lng  \n",
       "26318  Vandalism/Criminal Mischief -75.106500  39.996207  39.996207 -75.106500  \n",
       "56377  Vandalism/Criminal Mischief -75.207288  39.964398  39.964398 -75.207288  \n",
       "57445               Other Assaults -75.239068  39.920665  39.920665 -75.239068  \n",
       "31603           All Other Offenses -75.168856  39.997409  39.997409 -75.168856  \n",
       "46945               Other Assaults -75.170240  40.038857  40.038857 -75.170240  \n",
       "22780               Other Assaults -75.196152  39.945977  39.945977 -75.196152  \n",
       "34676               Other Assaults -75.223106  40.032007  40.032007 -75.223106  \n",
       "60464                        Fraud -75.083068  40.027295  40.027295 -75.083068  \n",
       "17535               Other Assaults -75.076312  40.041060  40.041060 -75.076312  \n",
       "13376                       Thefts -75.161599  39.962210  39.962210 -75.161599  "
      ]
     },
     "execution_count": 7,
     "metadata": {},
     "output_type": "execute_result"
    }
   ],
   "source": [
    "incidents_csv.sample(10)"
   ]
  },
  {
   "cell_type": "markdown",
   "metadata": {},
   "source": [
    "This is a pandas dataframe. We need to convert it to GeoDataframe. \n",
    "\n",
    "<div class=\"alert alert-block alert-info\">\n",
    "    \n",
    "<b>Instructions:</b> \n",
    "\n",
    "\n",
    "* <span style='font-family:Georgia'> First find the column names for the coordinates (latitude and longitude columns).\n",
    "    \n",
    "* <span style='font-family:Georgia'> Convert the Dataframe to GeodataFrame using gpd.GeoDataFrame(). You can pass the the columns you have identified from above int points_from_xy(). You can also pass the crs= \"EPSG:4326\". \n",
    "    \n",
    "* <span style='font-family:Georgia'> If you have converted the DataFrame to a GeoDataframe, you should now have a geometry column in your dataset. \n",
    "\n",
    "\n"
   ]
  },
  {
   "cell_type": "code",
   "execution_count": 9,
   "metadata": {},
   "outputs": [],
   "source": [
    "incidents_gdf = gpd.GeoDataFrame(\n",
    "    incidents_csv, \n",
    "    geometry=gpd.points_from_xy(incidents_csv.lng, incidents_csv.lat),\n",
    "    crs = \"EPSG:4326\"\n",
    ")"
   ]
  },
  {
   "cell_type": "code",
   "execution_count": 10,
   "metadata": {},
   "outputs": [
    {
     "data": {
      "text/html": [
       "<div>\n",
       "<style scoped>\n",
       "    .dataframe tbody tr th:only-of-type {\n",
       "        vertical-align: middle;\n",
       "    }\n",
       "\n",
       "    .dataframe tbody tr th {\n",
       "        vertical-align: top;\n",
       "    }\n",
       "\n",
       "    .dataframe thead th {\n",
       "        text-align: right;\n",
       "    }\n",
       "</style>\n",
       "<table border=\"1\" class=\"dataframe\">\n",
       "  <thead>\n",
       "    <tr style=\"text-align: right;\">\n",
       "      <th></th>\n",
       "      <th>objectid</th>\n",
       "      <th>dc_dist</th>\n",
       "      <th>psa</th>\n",
       "      <th>dispatch_date_time</th>\n",
       "      <th>dispatch_date</th>\n",
       "      <th>dispatch_time</th>\n",
       "      <th>hour_</th>\n",
       "      <th>dc_key</th>\n",
       "      <th>location_block</th>\n",
       "      <th>ucr_general</th>\n",
       "      <th>text_general_code</th>\n",
       "      <th>point_x</th>\n",
       "      <th>point_y</th>\n",
       "      <th>lat</th>\n",
       "      <th>lng</th>\n",
       "      <th>geometry</th>\n",
       "    </tr>\n",
       "  </thead>\n",
       "  <tbody>\n",
       "    <tr>\n",
       "      <th>0</th>\n",
       "      <td>129</td>\n",
       "      <td>9</td>\n",
       "      <td>2</td>\n",
       "      <td>25/03/2020 18:32</td>\n",
       "      <td>25/03/2020</td>\n",
       "      <td>18:32:00</td>\n",
       "      <td>18</td>\n",
       "      <td>2.020090e+11</td>\n",
       "      <td>1400 BLOCK SPRING GARDEN ST</td>\n",
       "      <td>600</td>\n",
       "      <td>Theft from Vehicle</td>\n",
       "      <td>-75.161446</td>\n",
       "      <td>39.962334</td>\n",
       "      <td>39.962334</td>\n",
       "      <td>-75.161446</td>\n",
       "      <td>POINT (-75.16145 39.96233)</td>\n",
       "    </tr>\n",
       "    <tr>\n",
       "      <th>1</th>\n",
       "      <td>41</td>\n",
       "      <td>77</td>\n",
       "      <td>A</td>\n",
       "      <td>08/03/2020 19:08</td>\n",
       "      <td>08/03/2020</td>\n",
       "      <td>19:08:00</td>\n",
       "      <td>19</td>\n",
       "      <td>2.020770e+11</td>\n",
       "      <td>0 BLOCK PIA WAY</td>\n",
       "      <td>600</td>\n",
       "      <td>Thefts</td>\n",
       "      <td>-75.230706</td>\n",
       "      <td>39.883881</td>\n",
       "      <td>39.883881</td>\n",
       "      <td>-75.230706</td>\n",
       "      <td>POINT (-75.23071 39.88388)</td>\n",
       "    </tr>\n",
       "    <tr>\n",
       "      <th>2</th>\n",
       "      <td>42</td>\n",
       "      <td>77</td>\n",
       "      <td>A</td>\n",
       "      <td>15/03/2020 18:41</td>\n",
       "      <td>15/03/2020</td>\n",
       "      <td>18:41:00</td>\n",
       "      <td>18</td>\n",
       "      <td>2.020770e+11</td>\n",
       "      <td>0 BLOCK PIA WAY</td>\n",
       "      <td>600</td>\n",
       "      <td>Thefts</td>\n",
       "      <td>-75.230706</td>\n",
       "      <td>39.883881</td>\n",
       "      <td>39.883881</td>\n",
       "      <td>-75.230706</td>\n",
       "      <td>POINT (-75.23071 39.88388)</td>\n",
       "    </tr>\n",
       "    <tr>\n",
       "      <th>3</th>\n",
       "      <td>43</td>\n",
       "      <td>77</td>\n",
       "      <td>A</td>\n",
       "      <td>18/03/2020 08:17</td>\n",
       "      <td>18/03/2020</td>\n",
       "      <td>08:17:00</td>\n",
       "      <td>8</td>\n",
       "      <td>2.020770e+11</td>\n",
       "      <td>0 BLOCK PIA WAY</td>\n",
       "      <td>600</td>\n",
       "      <td>Thefts</td>\n",
       "      <td>-75.230706</td>\n",
       "      <td>39.883881</td>\n",
       "      <td>39.883881</td>\n",
       "      <td>-75.230706</td>\n",
       "      <td>POINT (-75.23071 39.88388)</td>\n",
       "    </tr>\n",
       "    <tr>\n",
       "      <th>4</th>\n",
       "      <td>44</td>\n",
       "      <td>77</td>\n",
       "      <td>A</td>\n",
       "      <td>03/04/2020 15:32</td>\n",
       "      <td>03/04/2020</td>\n",
       "      <td>15:32:33</td>\n",
       "      <td>15</td>\n",
       "      <td>2.020770e+11</td>\n",
       "      <td>0 BLOCK PIA WAY</td>\n",
       "      <td>600</td>\n",
       "      <td>Thefts</td>\n",
       "      <td>-75.230706</td>\n",
       "      <td>39.883881</td>\n",
       "      <td>39.883881</td>\n",
       "      <td>-75.230706</td>\n",
       "      <td>POINT (-75.23071 39.88388)</td>\n",
       "    </tr>\n",
       "  </tbody>\n",
       "</table>\n",
       "</div>"
      ],
      "text/plain": [
       "   objectid  dc_dist psa dispatch_date_time dispatch_date dispatch_time  \\\n",
       "0       129        9   2   25/03/2020 18:32    25/03/2020      18:32:00   \n",
       "1        41       77   A   08/03/2020 19:08    08/03/2020      19:08:00   \n",
       "2        42       77   A   15/03/2020 18:41    15/03/2020      18:41:00   \n",
       "3        43       77   A   18/03/2020 08:17    18/03/2020      08:17:00   \n",
       "4        44       77   A   03/04/2020 15:32    03/04/2020      15:32:33   \n",
       "\n",
       "   hour_        dc_key               location_block  ucr_general  \\\n",
       "0     18  2.020090e+11  1400 BLOCK SPRING GARDEN ST          600   \n",
       "1     19  2.020770e+11              0 BLOCK PIA WAY          600   \n",
       "2     18  2.020770e+11              0 BLOCK PIA WAY          600   \n",
       "3      8  2.020770e+11              0 BLOCK PIA WAY          600   \n",
       "4     15  2.020770e+11              0 BLOCK PIA WAY          600   \n",
       "\n",
       "    text_general_code    point_x    point_y        lat        lng  \\\n",
       "0  Theft from Vehicle -75.161446  39.962334  39.962334 -75.161446   \n",
       "1              Thefts -75.230706  39.883881  39.883881 -75.230706   \n",
       "2              Thefts -75.230706  39.883881  39.883881 -75.230706   \n",
       "3              Thefts -75.230706  39.883881  39.883881 -75.230706   \n",
       "4              Thefts -75.230706  39.883881  39.883881 -75.230706   \n",
       "\n",
       "                     geometry  \n",
       "0  POINT (-75.16145 39.96233)  \n",
       "1  POINT (-75.23071 39.88388)  \n",
       "2  POINT (-75.23071 39.88388)  \n",
       "3  POINT (-75.23071 39.88388)  \n",
       "4  POINT (-75.23071 39.88388)  "
      ]
     },
     "execution_count": 10,
     "metadata": {},
     "output_type": "execute_result"
    }
   ],
   "source": [
    "incidents_gdf.head()"
   ]
  },
  {
   "cell_type": "markdown",
   "metadata": {},
   "source": [
    "<div class=\"alert alert-block alert-info\">\n",
    "<span style='font-family:Georgia'> \n",
    "Plot the GeoDataFrame with geopandas .plot() method\n",
    "\n",
    "</div>"
   ]
  },
  {
   "cell_type": "code",
   "execution_count": 11,
   "metadata": {},
   "outputs": [
    {
     "data": {
      "text/plain": [
       "<AxesSubplot:>"
      ]
     },
     "execution_count": 11,
     "metadata": {},
     "output_type": "execute_result"
    },
    {
     "data": {
      "image/png": "[encoded data removed]",
      "text/plain": [
       "<Figure size 432x288 with 1 Axes>"
      ]
     },
     "metadata": {
      "needs_background": "light"
     },
     "output_type": "display_data"
    }
   ],
   "source": [
    "incidents_gdf.plot()"
   ]
  },
  {
   "cell_type": "markdown",
   "metadata": {},
   "source": [
    "\n",
    "<div class=\"alert alert-block alert-danger\">\n",
    "<b>Alert:</b> It looks we have some points are outliers, probably in another city. Can you remove them?.\n",
    "</div>\n",
    "\n",
    "<div class=\"alert alert-block alert-info\">\n",
    "<span style='font-family:Georgia'> \n",
    "Try to use indexing with for example using the latitude column with this condition ( \"lat\"> 38) and if those outlier points are removed. You can also plot to see the results\n",
    "\n",
    "</div>"
   ]
  },
  {
   "cell_type": "code",
   "execution_count": 12,
   "metadata": {},
   "outputs": [],
   "source": [
    "incidents_phili = incidents_gdf[(incidents_gdf.lat > 38)]\n",
    "\n",
    "# also could have done: incidents_phili[(incidents_phili[\"lat\"] > 38)]"
   ]
  },
  {
   "cell_type": "markdown",
   "metadata": {},
   "source": [
    "<div class=\"alert alert-block alert-info\">\n",
    "<span style='font-family:Georgia'> \n",
    "Plot the cleaned GeoDataFrame with geopandas .plot() method\n",
    "\n",
    "</div>"
   ]
  },
  {
   "cell_type": "code",
   "execution_count": 15,
   "metadata": {},
   "outputs": [
    {
     "data": {
      "text/plain": [
       "<AxesSubplot:>"
      ]
     },
     "execution_count": 15,
     "metadata": {},
     "output_type": "execute_result"
    },
    {
     "data": {
      "image/png": "[encoded data removed]",
      "text/plain": [
       "<Figure size 432x288 with 1 Axes>"
      ]
     },
     "metadata": {
      "needs_background": "light"
     },
     "output_type": "display_data"
    }
   ],
   "source": [
    "incidents_phili.plot(markersize=0.2)"
   ]
  },
  {
   "cell_type": "markdown",
   "metadata": {},
   "source": [
    "\n",
    "\n",
    "<div class=\"alert alert-block alert-info\">\n",
    "<span style='font-family:Georgia'> \n",
    "Save the cleaned data to the assignmentData Folder: call it incidents_clean.shp.\n",
    "We will use this dataset later in the next assignment.\n",
    "Make sure it is stored locally.\n",
    "\n",
    "</div>"
   ]
  },
  {
   "cell_type": "code",
   "execution_count": 16,
   "metadata": {},
   "outputs": [
    {
     "name": "stderr",
     "output_type": "stream",
     "text": [
      "C:\\Users\\AMarley\\AppData\\Roaming\\Python\\Python39\\site-packages\\pyproj\\crs\\crs.py:131: FutureWarning: '+init=<authority>:<code>' syntax is deprecated. '<authority>:<code>' is the preferred initialization method. When making the change, be mindful of axis order changes: https://pyproj4.github.io/pyproj/stable/gotchas.html#axis-order-changes-in-proj-6\n",
      "  in_crs_string = _prepare_from_proj_string(in_crs_string)\n",
      "C:\\Users\\AMarley\\AppData\\Local\\Temp/ipykernel_15772/61538486.py:1: UserWarning: Column names longer than 10 characters will be truncated when saved to ESRI Shapefile.\n",
      "  incidents_phili.to_file(\"data/incidents_clean.shp\", crs={'init' :'epsg:4326'})\n"
     ]
    }
   ],
   "source": [
    "incidents_phili.to_file(\"data/incidents_shape/incidents_clean.shp\", crs={'init' :'epsg:4326'})"
   ]
  },
  {
   "cell_type": "markdown",
   "metadata": {},
   "source": [
    "# 3. Projections"
   ]
  },
  {
   "cell_type": "markdown",
   "metadata": {},
   "source": [
    "\n",
    "\n",
    "<div class=\"alert alert-block alert-info\">\n",
    "<span style='font-family:Georgia'> \n",
    "Check the Coordinate reference system of the the first GeoDataframe - The polygon data.\n",
    "\n",
    "</div>"
   ]
  },
  {
   "cell_type": "code",
   "execution_count": 17,
   "metadata": {},
   "outputs": [
    {
     "data": {
      "text/plain": [
       "<Derived Projected CRS: EPSG:2272>\n",
       "Name: NAD83 / Pennsylvania South (ftUS)\n",
       "Axis Info [cartesian]:\n",
       "- X[east]: Easting (US survey foot)\n",
       "- Y[north]: Northing (US survey foot)\n",
       "Area of Use:\n",
       "- name: United States (USA) - Pennsylvania - counties of Adams; Allegheny; Armstrong; Beaver; Bedford; Berks; Blair; Bucks; Butler; Cambria; Chester; Cumberland; Dauphin; Delaware; Fayette; Franklin; Fulton; Greene; Huntingdon; Indiana; Juniata; Lancaster; Lawrence; Lebanon; Lehigh; Mifflin; Montgomery; Northampton; Perry; Philadelphia; Schuylkill; Snyder; Somerset; Washington; Westmoreland; York.\n",
       "- bounds: (-80.53, 39.71, -74.72, 41.18)\n",
       "Coordinate Operation:\n",
       "- name: SPCS83 Pennsylvania South zone (US Survey feet)\n",
       "- method: Lambert Conic Conformal (2SP)\n",
       "Datum: North American Datum 1983\n",
       "- Ellipsoid: GRS 1980\n",
       "- Prime Meridian: Greenwich"
      ]
     },
     "execution_count": 17,
     "metadata": {},
     "output_type": "execute_result"
    }
   ],
   "source": [
    "phili_neighborhoods_raw.crs"
   ]
  },
  {
   "cell_type": "markdown",
   "metadata": {},
   "source": [
    "\n",
    "\n",
    "<div class=\"alert alert-block alert-success\">\n",
    "<b>Find out:</b> What is the EPSG code? .\n",
    "</div>"
   ]
  },
  {
   "cell_type": "markdown",
   "metadata": {},
   "source": [
    "EPSG:2272"
   ]
  },
  {
   "cell_type": "markdown",
   "metadata": {},
   "source": [
    "\n",
    "\n",
    "<div class=\"alert alert-block alert-success\">\n",
    "<b>Find out:</b> What is unit of Measurement?\n",
    "</div>\n"
   ]
  },
  {
   "cell_type": "markdown",
   "metadata": {},
   "source": [
    "feet"
   ]
  },
  {
   "cell_type": "markdown",
   "metadata": {},
   "source": [
    "\n",
    "<div class=\"alert alert-block alert-info\">\n",
    "<span style='font-family:Georgia'> \n",
    " Check the CRS of the the points dataset we converted to Geodataframe (Crimes)\n",
    "</div>"
   ]
  },
  {
   "cell_type": "code",
   "execution_count": 18,
   "metadata": {},
   "outputs": [
    {
     "data": {
      "text/plain": [
       "<Geographic 2D CRS: EPSG:4326>\n",
       "Name: WGS 84\n",
       "Axis Info [ellipsoidal]:\n",
       "- Lat[north]: Geodetic latitude (degree)\n",
       "- Lon[east]: Geodetic longitude (degree)\n",
       "Area of Use:\n",
       "- name: World.\n",
       "- bounds: (-180.0, -90.0, 180.0, 90.0)\n",
       "Datum: World Geodetic System 1984 ensemble\n",
       "- Ellipsoid: WGS 84\n",
       "- Prime Meridian: Greenwich"
      ]
     },
     "execution_count": 18,
     "metadata": {},
     "output_type": "execute_result"
    }
   ],
   "source": [
    "incidents_phili.crs"
   ]
  },
  {
   "cell_type": "markdown",
   "metadata": {},
   "source": [
    "\n",
    "\n",
    "\n",
    "<div class=\"alert alert-block alert-info\">\n",
    "<span style='font-family:Georgia'> \n",
    "We have different CRS in these two datasets. Set the crs of the points dataset to the same CRS of neighbourhoo data(polygon).\n",
    "    \n",
    "You can use .to_crs() method.\n",
    "</div>\n"
   ]
  },
  {
   "cell_type": "code",
   "execution_count": 19,
   "metadata": {},
   "outputs": [],
   "source": [
    "incidents_phili_projected = incidents_phili.to_crs(epsg=2272)"
   ]
  },
  {
   "cell_type": "markdown",
   "metadata": {},
   "source": [
    "\n",
    "\n",
    "<div class=\"alert alert-block alert-info\">\n",
    "<span style='font-family:Georgia'> \n",
    "Check again if you have successfully changed the CRS.\n",
    "</div>"
   ]
  },
  {
   "cell_type": "code",
   "execution_count": 20,
   "metadata": {},
   "outputs": [
    {
     "data": {
      "text/plain": [
       "<Derived Projected CRS: EPSG:2272>\n",
       "Name: NAD83 / Pennsylvania South (ftUS)\n",
       "Axis Info [cartesian]:\n",
       "- X[east]: Easting (US survey foot)\n",
       "- Y[north]: Northing (US survey foot)\n",
       "Area of Use:\n",
       "- name: United States (USA) - Pennsylvania - counties of Adams; Allegheny; Armstrong; Beaver; Bedford; Berks; Blair; Bucks; Butler; Cambria; Chester; Cumberland; Dauphin; Delaware; Fayette; Franklin; Fulton; Greene; Huntingdon; Indiana; Juniata; Lancaster; Lawrence; Lebanon; Lehigh; Mifflin; Montgomery; Northampton; Perry; Philadelphia; Schuylkill; Snyder; Somerset; Washington; Westmoreland; York.\n",
       "- bounds: (-80.53, 39.71, -74.72, 41.18)\n",
       "Coordinate Operation:\n",
       "- name: SPCS83 Pennsylvania South zone (US Survey feet)\n",
       "- method: Lambert Conic Conformal (2SP)\n",
       "Datum: North American Datum 1983\n",
       "- Ellipsoid: GRS 1980\n",
       "- Prime Meridian: Greenwich"
      ]
     },
     "execution_count": 20,
     "metadata": {},
     "output_type": "execute_result"
    }
   ],
   "source": [
    "incidents_phili_projected.crs"
   ]
  },
  {
   "cell_type": "markdown",
   "metadata": {},
   "source": [
    "\n",
    "<div class=\"alert alert-block alert-success\">\n",
    "<font size=\"50\"><center><b font size=\"25\">Good Job</b></font></center>\n",
    "</div>\n"
   ]
  }
 ],
 "metadata": {
  "hide_input": false,
  "interpreter": {
   "hash": "03680d369dc9fbd127417f843df26571ab02632042c300f98ecedaf539164467"
  },
  "kernelspec": {
   "display_name": "geo",
   "language": "python",
   "name": "python3"
  },
  "language_info": {
   "codemirror_mode": {
    "name": "ipython",
    "version": 3
   },
   "file_extension": ".py",
   "mimetype": "text/x-python",
   "name": "python",
   "nbconvert_exporter": "python",
   "pygments_lexer": "ipython3",
   "version": "3.9.7"
  }
 },
 "nbformat": 4,
 "nbformat_minor": 4
}
